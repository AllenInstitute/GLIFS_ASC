{
 "cells": [
  {
   "cell_type": "markdown",
   "metadata": {},
   "source": [
    "    Code from Teeter 2018"
   ]
  },
  {
   "cell_type": "code",
   "execution_count": 2,
   "metadata": {},
   "outputs": [],
   "source": [
    "import matplotlib.pyplot as plt\n",
    "import numpy as np\n",
    "from scipy import stats as st\n",
    "import scipy.cluster.hierarchy as sch\n",
    "import sklearn\n",
    "from sklearn.cluster import AgglomerativeClustering "
   ]
  },
  {
   "cell_type": "markdown",
   "metadata": {},
   "source": [
    "Clustering the Parameters"
   ]
  },
  {
   "cell_type": "code",
   "execution_count": 15,
   "metadata": {},
   "outputs": [
    {
     "name": "stdout",
     "output_type": "stream",
     "text": [
      "(256, 8)\n"
     ]
    }
   ],
   "source": [
    "main_name = \"smnist-4-final\"\n",
    "parameters = np.loadtxt(\"results/results_wkof_080821/\" + main_name + \"-256units-0itr-allparams.csv\", delimiter=',')\n",
    "# parameters = np.loadtxt(\"results/results_wkof_080821/smnist-2-agn-256units-0itr-allparams.csv\", delimiter=',')\n",
    "print(parameters.shape)\n",
    "\n",
    "# nrow, ncol = parameters.shape\n",
    "# # Transform any parameters as needed\n",
    "# for ii in range(ncol):\n",
    "#   if (min(parameters[:,ii])*max(parameters[:,ii])>0):\n",
    "#     if (min(parameters[:,ii])>0):\n",
    "#       if (st.skew(parameters[:,ii])>st.skew(np.log10(parameters[:,ii]))):\n",
    "#         print(\"positive and log\")\n",
    "#         parameters[:,ii]=np.log10(parameters[:,ii])\n",
    "#     else:\n",
    "#       if (st.skew(-parameters[:,ii])>st.skew(np.log10(-parameters[:,ii]))):\n",
    "#         print(\"negative and log\")\n",
    "#         parameters[:,ii]=np.log10(-parameters[:,ii])"
   ]
  },
  {
   "cell_type": "code",
   "execution_count": null,
   "metadata": {},
   "outputs": [],
   "source": [
    "dendrogram = sch.dendrogram(sch.linkage(parameters, method  = \"ward\"))\n",
    "plt.title('Dendrogram')\n",
    "plt.xlabel('Neurons')\n",
    "plt.ylabel('Euclidean distances')\n",
    "plt.show()\n",
    "\n",
    "n_clusters_list = np.arange(2, 12, step=1)\n",
    "ch_scores = []\n",
    "\n",
    "for n_clusters in n_clusters_list:\n",
    "    hc = AgglomerativeClustering(n_clusters = n_clusters, affinity = 'euclidean', linkage ='ward')\n",
    "    y_hc=hc.fit_predict(parameters)\n",
    "    ch_scores.append(sklearn.metrics.calinski_harabasz_score(parameters, y_hc))\n",
    "plt.scatter(n_clusters_list, ch_scores)\n",
    "results = np.zeros((len(ch_scores), 2))\n",
    "results[:, 0] = n_clusters_list.reshape(-1)\n",
    "results[:, 1] = ch_scores\n",
    "np.savetxt(\"results/results_wkof_080821/\" + main_name + \"-256units-0itr-allparams-chscores.csv\", results, delimiter=',')\n",
    "# np.savetxt(\"results/results_wkof_080821/smnist-2-agn-256units-0itr-allparams-chscores.csv\", y_hc, delimiter=',')"
   ]
  },
  {
   "cell_type": "code",
   "execution_count": 14,
   "metadata": {},
   "outputs": [
    {
     "name": "stdout",
     "output_type": "stream",
     "text": [
      "using n_clusters 5\n"
     ]
    }
   ],
   "source": [
    "best_n_clusters = n_clusters_list[np.argmax(ch_scores)]\n",
    "print(f\"using n_clusters {best_n_clusters}\")\n",
    "\n",
    "hc = AgglomerativeClustering(n_clusters = best_n_clusters, affinity = 'euclidean', linkage ='ward')\n",
    "y_hc=hc.fit_predict(parameters)\n",
    "np.savetxt(\"results/results_wkof_080821/\" + main_name + \"-256units-0itr-allparams-clusters.csv\", y_hc, delimiter=',')\n",
    "# np.savetxt(\"results/results_wkof_080821/smnist-2-agn-256units-0itr-allparams-clusters.csv\", y_hc, delimiter=',')"
   ]
  },
  {
   "cell_type": "markdown",
   "metadata": {},
   "source": [
    "Clustering the f-I curves"
   ]
  },
  {
   "cell_type": "code",
   "execution_count": 6,
   "metadata": {},
   "outputs": [],
   "source": [
    "isyns = np.loadtxt(\"results/results_wkof_080821/smnist-4-agn-ficurve-isyns.csv\", delimiter=',')\n",
    "frates = np.loadtxt(\"results/results_wkof_080821/smnist-4-agn-ficurve-frates.csv\", delimiter=',')\n",
    "# isyns = np.loadtxt(\"results/results_wkof_080821/smnist-2-agn-isyns.csv\", delimiter=',')\n",
    "# frates = np.loadtxt(\"results/results_wkof_080821/pattern-4-frates.csv\", delimiter=',')\n",
    "\n",
    "num_neurons = frates.shape[1]\n",
    "\n",
    "thresholds = np.empty(num_neurons)\n",
    "scale_up = np.empty(num_neurons) # multiplicative factor by which frate is scaled after threshold\n",
    "med_derivative = np.empty(num_neurons)\n",
    "\n",
    "for i in range(num_neurons):\n",
    "    threshold_found = False\n",
    "    nan_found = False\n",
    "    derivatives = []\n",
    "    for j in range(len(isyns) - 1):\n",
    "        if frates[j, i] >= 0.01 * max(frates[:, i]) and not threshold_found and not nan_found:\n",
    "            thresholds[i] = isyns[j]\n",
    "            scale_up[i] = isyns[j + 1] / isyns[j]\n",
    "            threshold_found = True\n",
    "        if not np.isnan(frates[j + 1, i]) and not np.isnan(frates[j, i]) and not nan_found:\n",
    "            derivatives.append((frates[j + 1, i] - frates[j, i]) / (isyns[j + 1] - isyns[j]))\n",
    "        else:\n",
    "#             print(j)\n",
    "            nan_found = True\n",
    "    med_derivative[i] = np.median(derivatives)\n",
    "    \n",
    "            \n",
    "# med_derivative = np.median(derivatives, 1)\n",
    "\n",
    "features = np.zeros((num_neurons, 2))\n",
    "features[:, 0] = thresholds\n",
    "features[:, 1] = med_derivative\n",
    "# features[:, 2] = scale_up\n",
    "# print(thresholds)\n",
    "np.savetxt(\"results/results_wkof_080821/smnist-4-agn-256units-256units-0itr-allfeatures.csv\", features, delimiter=',')\n",
    "# np.savetxt(\"results/results_wkof_080821/pattern-4-128units-0itr-allfeatures.csv\", features, delimiter=',')"
   ]
  },
  {
   "cell_type": "code",
   "execution_count": 7,
   "metadata": {},
   "outputs": [
    {
     "data": {
      "text/plain": [
       "<matplotlib.collections.PathCollection at 0x1e658410>"
      ]
     },
     "execution_count": 7,
     "metadata": {},
     "output_type": "execute_result"
    },
    {
     "data": {
      "image/png": "[encoded data removed]",
      "text/plain": [
       "<Figure size 432x288 with 1 Axes>"
      ]
     },
     "metadata": {
      "needs_background": "light"
     },
     "output_type": "display_data"
    }
   ],
   "source": [
    "plt.scatter(thresholds, scale_up)"
   ]
  },
  {
   "cell_type": "code",
   "execution_count": 8,
   "metadata": {},
   "outputs": [
    {
     "data": {
      "image/png": "[encoded data removed]",
      "text/plain": [
       "<Figure size 432x288 with 1 Axes>"
      ]
     },
     "metadata": {
      "needs_background": "light"
     },
     "output_type": "display_data"
    }
   ],
   "source": [
    "dendrogram = sch.dendrogram(sch.linkage(features, method  = \"ward\"))\n",
    "plt.title('Dendrogram')\n",
    "plt.xlabel('Neurons')\n",
    "plt.ylabel('Euclidean distances')\n",
    "plt.show()\n",
    "\n",
    "n_clusters_list = np.arange(2, 10, step = 1)\n",
    "ch_scores = []\n",
    "for n_clusters in n_clusters_list:\n",
    "    hc = AgglomerativeClustering(n_clusters = n_clusters, affinity = 'euclidean', linkage ='ward')\n",
    "    y_hc=hc.fit_predict(features)\n",
    "    ch_scores.append(sklearn.metrics.calinski_harabasz_score(features, y_hc))\n",
    "results =  np.zeros((len(n_clusters_list), 2))\n",
    "results[:, 0] = n_clusters_list\n",
    "results[:, 1] = ch_scores\n",
    "# np.savetxt(\"results/results_wkof_080821/smnist-4-agn-256units-256units-0itr-allfeatures-chscores.csv\", results, delimiter=',')"
   ]
  },
  {
   "cell_type": "code",
   "execution_count": 9,
   "metadata": {},
   "outputs": [
    {
     "name": "stdout",
     "output_type": "stream",
     "text": [
      "found best value at 9\n"
     ]
    },
    {
     "data": {
      "image/png": "[encoded data removed]",
      "text/plain": [
       "<Figure size 432x288 with 1 Axes>"
      ]
     },
     "metadata": {
      "needs_background": "light"
     },
     "output_type": "display_data"
    }
   ],
   "source": [
    "plt.scatter(n_clusters_list, ch_scores)\n",
    "print(f\"found best value at {n_clusters_list[np.argmax(ch_scores)]}\")"
   ]
  },
  {
   "cell_type": "code",
   "execution_count": 10,
   "metadata": {},
   "outputs": [],
   "source": [
    "hc = AgglomerativeClustering(n_clusters = 3, affinity = 'euclidean', linkage ='ward')\n",
    "y_hc=hc.fit_predict(features)\n",
    "np.savetxt(\"results/results_wkof_080821/smnist-4-agn-256units-256units-0itr-allfeatures-clusters.csv\", y_hc, delimiter=',')"
   ]
  }
 ],
 "metadata": {
  "kernelspec": {
   "display_name": "Python (env)",
   "language": "python",
   "name": "env"
  },
  "language_info": {
   "codemirror_mode": {
    "name": "ipython",
    "version": 3
   },
   "file_extension": ".py",
   "mimetype": "text/x-python",
   "name": "python",
   "nbconvert_exporter": "python",
   "pygments_lexer": "ipython3",
   "version": "3.7.4"
  }
 },
 "nbformat": 4,
 "nbformat_minor": 4
}
